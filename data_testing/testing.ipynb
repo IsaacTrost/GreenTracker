{
 "cells": [
  {
   "cell_type": "code",
   "execution_count": 17,
   "metadata": {},
   "outputs": [
    {
     "name": "stdout",
     "output_type": "stream",
     "text": [
      "Subdatasets in the HDF file:\n",
      "0: HDF4_EOS:EOS_GRID:\"downloaded_file.hdf\":MODIS_Grid_16DAY_250m_500m_VI:\"250m 16 days NDVI\"\n",
      "1: HDF4_EOS:EOS_GRID:\"downloaded_file.hdf\":MODIS_Grid_16DAY_250m_500m_VI:\"250m 16 days EVI\"\n",
      "2: HDF4_EOS:EOS_GRID:\"downloaded_file.hdf\":MODIS_Grid_16DAY_250m_500m_VI:\"250m 16 days VI Quality\"\n",
      "3: HDF4_EOS:EOS_GRID:\"downloaded_file.hdf\":MODIS_Grid_16DAY_250m_500m_VI:\"250m 16 days red reflectance\"\n",
      "4: HDF4_EOS:EOS_GRID:\"downloaded_file.hdf\":MODIS_Grid_16DAY_250m_500m_VI:\"250m 16 days NIR reflectance\"\n",
      "5: HDF4_EOS:EOS_GRID:\"downloaded_file.hdf\":MODIS_Grid_16DAY_250m_500m_VI:\"250m 16 days blue reflectance\"\n",
      "6: HDF4_EOS:EOS_GRID:\"downloaded_file.hdf\":MODIS_Grid_16DAY_250m_500m_VI:\"250m 16 days MIR reflectance\"\n",
      "7: HDF4_EOS:EOS_GRID:\"downloaded_file.hdf\":MODIS_Grid_16DAY_250m_500m_VI:\"250m 16 days view zenith angle\"\n",
      "8: HDF4_EOS:EOS_GRID:\"downloaded_file.hdf\":MODIS_Grid_16DAY_250m_500m_VI:\"250m 16 days sun zenith angle\"\n",
      "9: HDF4_EOS:EOS_GRID:\"downloaded_file.hdf\":MODIS_Grid_16DAY_250m_500m_VI:\"250m 16 days relative azimuth angle\"\n",
      "10: HDF4_EOS:EOS_GRID:\"downloaded_file.hdf\":MODIS_Grid_16DAY_250m_500m_VI:\"250m 16 days composite day of the year\"\n",
      "11: HDF4_EOS:EOS_GRID:\"downloaded_file.hdf\":MODIS_Grid_16DAY_250m_500m_VI:\"250m 16 days pixel reliability\"\n",
      "[[80 80 80 ... 68 68 68]\n",
      " [80 80 80 ... 68 68 68]\n",
      " [80 80 80 ... 68 68 68]\n",
      " ...\n",
      " [68 68 68 ... 68 68 68]\n",
      " [68 68 68 ... 68 68 68]\n",
      " [68 68 68 ... 68 68 68]]\n"
     ]
    }
   ],
   "source": [
    "from osgeo import gdal\n",
    "import numpy as np\n",
    "\n",
    "# Path to your HDF file\n",
    "file_path = 'downloaded_file.hdf'\n",
    "\n",
    "# Open the HDF file\n",
    "gdal_file = gdal.Open(file_path)\n",
    "\n",
    "# Check the subdatasets (assuming the file has multiple datasets like most HDF files)\n",
    "subdatasets = gdal_file.GetSubDatasets()\n",
    "\n",
    "# Print subdatasets for reference\n",
    "print(\"Subdatasets in the HDF file:\")\n",
    "for i, subdataset in enumerate(subdatasets):\n",
    "    print(f\"{i}: {subdataset[0]}\")\n",
    "\n",
    "# You need to identify the correct subdataset that contains EVI data.\n",
    "# Typically, MODIS data has subdatasets like \"MOD_Grid_BRDF:BRDF_Albedo_Parameter1\", etc.\n",
    "# You'll need to inspect your specific file to find the EVI dataset.\n",
    "# For the sake of this example, we'll assume the EVI subdataset is at index 0.\n",
    "\n",
    "# Open the EVI subdataset (you might need to change the index depending on your file)\n",
    "evi_dataset = gdal.Open(subdatasets[1][0]) \n",
    "vi_quality_band = gdal.Open(subdatasets[2][0])\n",
    "vi_quality_data = vi_quality_band.ReadAsArray()\n",
    "\n",
    "# Extract specific bits\n",
    "# Extract bits 0-1 for VI usefulness (use bitwise AND to isolate the bits, and shift them into position)\n",
    "vi_usefulness = (vi_quality_data & 0b11)  # Bits [0-1]\n",
    "\n",
    "# Extract bits 2-5 for Aerosol quantity (shift right by 2, then mask the 4 bits)\n",
    "aerosol_quantity = (vi_quality_data >> 2) & 0b1111  # Bits [2-5]\n",
    "\n",
    "# Extract bits 6-7 for Cloud adjacency (shift right by 6, then mask the 2 bits)\n",
    "cloud_adj = (vi_quality_data >> 6) & 0b11  # Bits [6-7]\n",
    "\n",
    "# Combine these into an 8-bit value by shifting the bits into place\n",
    "# For example, combining usefulness and aerosol quantity into an 8-bit value\n",
    "combined_quality = (cloud_adj << 6) | (aerosol_quantity << 2) | vi_usefulness  # 8-bit combined value\n",
    "\n",
    "# Set NoData value for the quality band (optional, if there are invalid values)\n"
   ]
  },
  {
   "cell_type": "code",
   "execution_count": 24,
   "metadata": {},
   "outputs": [],
   "source": [
    "\n",
    "output_tif = \"evi_output.tif\"\n",
    "\n",
    "# Get driver for GeoTIFF format\n",
    "driver = gdal.GetDriverByName(\"GTiff\")\n",
    "\n",
    "# Create the GeoTIFF file with the same dimensions and type as the original dataset\n",
    "out_tif = driver.Create(output_tif, \n",
    "                        evi_dataset.RasterXSize, \n",
    "                        evi_dataset.RasterYSize, \n",
    "                        evi_dataset.RasterCount, \n",
    "                        evi_dataset.GetRasterBand(1).DataType)\n",
    "\n",
    "# Set georeferencing information (projection and geotransform)\n",
    "out_tif.SetProjection(evi_dataset.GetProjection())\n",
    "out_tif.SetGeoTransform(evi_dataset.GetGeoTransform())\n",
    "\n",
    "# Copy each band from the original dataset to the new GeoTIFF\n",
    "\n",
    "in_band = evi_dataset.GetRasterBand(1)\n",
    "out_band = out_tif.GetRasterBand(1)\n",
    "\n",
    "# Copy data from original band to GeoTIFF band\n",
    "out_band.WriteArray(in_band.ReadAsArray())\n",
    "\n",
    "# Copy metadata\n",
    "out_band.SetNoDataValue(in_band.GetNoDataValue())\n",
    "\n",
    "out_tif.FlushCache()\n",
    "out_tif = None\n",
    "\n",
    "output_tif = \"evi_quality.tif\"\n",
    "\n",
    "# Add a new band specifically for the quality data as GDT_Byte\n",
    "out_tif = driver.Create(output_tif, \n",
    "                        evi_dataset.RasterXSize, \n",
    "                        evi_dataset.RasterYSize, \n",
    "                        1, \n",
    "                        gdal.GDT_Byte)\n",
    "out_band = out_tif.GetRasterBand(1)\n",
    "\n",
    "# Copy data from original band to GeoTIFF band\n",
    "out_band.WriteArray(combined_quality.astype(np.uint8))\n",
    "\n",
    "# Copy metadata\n",
    "out_band.SetNoDataValue(in_band.GetNoDataValue())\n",
    "out_band.FlushCache()\n",
    "out_tif = None\n"
   ]
  },
  {
   "cell_type": "code",
   "execution_count": 13,
   "metadata": {},
   "outputs": [
    {
     "name": "stdout",
     "output_type": "stream",
     "text": [
      "3\n"
     ]
    }
   ],
   "source": []
  },
  {
   "cell_type": "code",
   "execution_count": 10,
   "metadata": {},
   "outputs": [
    {
     "name": "stdout",
     "output_type": "stream",
     "text": [
      "GeoTransform: (-6671703.118, 231.65635826395825, 0.0, -2223901.039333, 0.0, -231.65635826395834)\n",
      "Projection: PROJCS[\"unnamed\",GEOGCS[\"Unknown datum based upon the custom spheroid\",DATUM[\"Not specified (based on custom spheroid)\",SPHEROID[\"Custom spheroid\",6371007.181,0]],PRIMEM[\"Greenwich\",0],UNIT[\"degree\",0.0174532925199433,AUTHORITY[\"EPSG\",\"9122\"]]],PROJECTION[\"Sinusoidal\"],PARAMETER[\"longitude_of_center\",0],PARAMETER[\"false_easting\",0],PARAMETER[\"false_northing\",0],UNIT[\"Meter\",1],AXIS[\"Easting\",EAST],AXIS[\"Northing\",NORTH]]\n",
      "Top-left corner lat/lon: -2223901.039333, -6671703.118\n",
      "bot-right corner lat/lon: -3335388.246283472, -5560215.911049528\n"
     ]
    }
   ],
   "source": []
  },
  {
   "cell_type": "code",
   "execution_count": 11,
   "metadata": {},
   "outputs": [
    {
     "name": "stdout",
     "output_type": "stream",
     "text": [
      "Top-left corner lat/lon: -39.99999998988649, -59.99999999461182\n",
      "Top-left corner lat/lon: -46.669277413437534, -50.00416666217315\n"
     ]
    }
   ],
   "source": []
  },
  {
   "cell_type": "code",
   "execution_count": null,
   "metadata": {},
   "outputs": [],
   "source": []
  }
 ],
 "metadata": {
  "kernelspec": {
   "display_name": "base",
   "language": "python",
   "name": "python3"
  },
  "language_info": {
   "codemirror_mode": {
    "name": "ipython",
    "version": 3
   },
   "file_extension": ".py",
   "mimetype": "text/x-python",
   "name": "python",
   "nbconvert_exporter": "python",
   "pygments_lexer": "ipython3",
   "version": "3.12.4"
  }
 },
 "nbformat": 4,
 "nbformat_minor": 2
}
